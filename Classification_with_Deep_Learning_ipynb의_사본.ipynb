{
  "nbformat": 4,
  "nbformat_minor": 0,
  "metadata": {
    "colab": {
      "name": "Classification with Deep Learning.ipynb의 사본",
      "provenance": [],
      "include_colab_link": true
    },
    "kernelspec": {
      "name": "python3",
      "display_name": "Python 3"
    },
    "language_info": {
      "name": "python"
    },
    "accelerator": "GPU"
  },
  "cells": [
    {
      "cell_type": "markdown",
      "metadata": {
        "id": "view-in-github",
        "colab_type": "text"
      },
      "source": [
        "<a href=\"https://colab.research.google.com/github/euigyuhwang/BigFig/blob/gh-pages/Classification_with_Deep_Learning_ipynb%EC%9D%98_%EC%82%AC%EB%B3%B8.ipynb\" target=\"_parent\"><img src=\"https://colab.research.google.com/assets/colab-badge.svg\" alt=\"Open In Colab\"/></a>"
      ]
    },
    {
      "cell_type": "code",
      "metadata": {
        "id": "dbPOXqrpDVYO"
      },
      "source": [
        "import tensorflow as tf\n",
        "import numpy as np\n",
        "from matplotlib import pyplot as plt"
      ],
      "execution_count": null,
      "outputs": []
    },
    {
      "cell_type": "markdown",
      "metadata": {
        "id": "c0584DTtDVYc"
      },
      "source": [
        "# 1. Create non-linear data distribution"
      ]
    },
    {
      "cell_type": "code",
      "metadata": {
        "id": "PeJaL5fpDVYg"
      },
      "source": [
        "# 임의의 클래스 A와 클래스 B를 생성함.\n",
        "m = 200\n",
        "class_A = np.random.normal(0, 1, [m, 2])\n",
        "label_A = np.ones([m, 1])\n",
        "\n",
        "class_B_x = np.random.normal(0, 2, [m, 1])\n",
        "class_B_y = 0.5*class_B_x**2 - 3\n",
        "\n",
        "class_B = np.concatenate([class_B_x, class_B_y], axis = 1)\n",
        "label_B = np.zeros([m, 1])"
      ],
      "execution_count": null,
      "outputs": []
    },
    {
      "cell_type": "code",
      "metadata": {
        "colab": {
          "base_uri": "https://localhost:8080/"
        },
        "id": "qhBMwmKSEwtY",
        "outputId": "eabecfc5-7777-4122-e137-aa31f6472631"
      },
      "source": [
        "#각 클래스의 데이터 shape은 다음과 같습니다. \n",
        "class_B.shape"
      ],
      "execution_count": null,
      "outputs": [
        {
          "output_type": "execute_result",
          "data": {
            "text/plain": [
              "(200, 2)"
            ]
          },
          "metadata": {
            "tags": []
          },
          "execution_count": 3
        }
      ]
    },
    {
      "cell_type": "code",
      "metadata": {
        "colab": {
          "base_uri": "https://localhost:8080/"
        },
        "id": "tO4Ce0voG7DI",
        "outputId": "5addf9f6-8e0b-450e-a520-8f873f45aa79"
      },
      "source": [
        "#레이블은 A가 1, B가 0입니다.\n",
        "print(label_A[:5])\n",
        "print(label_B[:5])"
      ],
      "execution_count": null,
      "outputs": [
        {
          "output_type": "stream",
          "text": [
            "[[1.]\n",
            " [1.]\n",
            " [1.]\n",
            " [1.]\n",
            " [1.]]\n",
            "[[0.]\n",
            " [0.]\n",
            " [0.]\n",
            " [0.]\n",
            " [0.]]\n"
          ],
          "name": "stdout"
        }
      ]
    },
    {
      "cell_type": "code",
      "metadata": {
        "colab": {
          "base_uri": "https://localhost:8080/",
          "height": 295
        },
        "id": "yKluzYByD8Kq",
        "outputId": "f84ffe2d-ed7c-4ce6-8dcd-bfe7ae8f0ac7"
      },
      "source": [
        "#데이터 분포를 볼까요?\n",
        "\n",
        "fig = plt.figure()\n",
        "ax1 = fig.add_subplot(111)\n",
        "\n",
        "ax1.set_title('nonlinear distribution')\n",
        "ax1.set_xlabel('x1')\n",
        "ax1.set_ylabel('x2')\n",
        "\n",
        "ax1.set_xlim([-4,4])\n",
        "ax1.set_ylim([-4,4])\n",
        "\n",
        "ax1.scatter(class_A[:,0], class_A[:,1], c='red')\n",
        "\n",
        "ax1.scatter(class_B[:,0], class_B[:,1])\n",
        "plt.show()"
      ],
      "execution_count": null,
      "outputs": [
        {
          "output_type": "display_data",
          "data": {
            "image/png": "[encoded data removed]",
            "text/plain": [
              "<Figure size 432x288 with 1 Axes>"
            ]
          },
          "metadata": {
            "tags": [],
            "needs_background": "light"
          }
        }
      ]
    },
    {
      "cell_type": "code",
      "metadata": {
        "colab": {
          "base_uri": "https://localhost:8080/"
        },
        "id": "jumr5HBPD8HU",
        "outputId": "7fe175d1-8aed-4ef9-c26e-24dece1c6c16"
      },
      "source": [
        "#데이터를 통합해주겠습니다.\n",
        "dataset = np.concatenate([class_A, class_B])\n",
        "dataset.shape"
      ],
      "execution_count": null,
      "outputs": [
        {
          "output_type": "execute_result",
          "data": {
            "text/plain": [
              "(400, 2)"
            ]
          },
          "metadata": {
            "tags": []
          },
          "execution_count": 6
        }
      ]
    },
    {
      "cell_type": "code",
      "metadata": {
        "colab": {
          "base_uri": "https://localhost:8080/"
        },
        "id": "G_PK34sjHD5y",
        "outputId": "efd1eb3d-ac5c-462b-e1cc-40e679d570cb"
      },
      "source": [
        "#레이블도 통합해줍니다.\n",
        "label = np.concatenate([label_A, label_B])\n",
        "label.shape"
      ],
      "execution_count": null,
      "outputs": [
        {
          "output_type": "execute_result",
          "data": {
            "text/plain": [
              "(400, 1)"
            ]
          },
          "metadata": {
            "tags": []
          },
          "execution_count": 7
        }
      ]
    },
    {
      "cell_type": "markdown",
      "metadata": {
        "id": "dvuAHDtEDVYq"
      },
      "source": [
        "# 2. Build your classification model with Neural Network"
      ]
    },
    {
      "cell_type": "code",
      "metadata": {
        "id": "gsybUFnQDVYt"
      },
      "source": [
        "from tensorflow.keras import layers\n",
        "\n",
        "def build_model():\n",
        "  model = tf.keras.Sequential([\n",
        "    layers.Dense(32, activation='relu', input_shape=[2]),\n",
        "    layers.Dense(16, activation='relu'),\n",
        "    layers.Dense(2, activation='relu'),\n",
        "    layers.Dense(1, activation='sigmoid')\n",
        "  ])\n",
        "\n",
        "  optimizer = tf.keras.optimizers.Adam(0.001)\n",
        "\n",
        "  model.compile(optimizer=optimizer,\n",
        "              loss='binary_crossentropy',\n",
        "              metrics=['accuracy'])\n",
        "  return model"
      ],
      "execution_count": null,
      "outputs": []
    },
    {
      "cell_type": "code",
      "metadata": {
        "id": "bXI4SJ6vDVY1"
      },
      "source": [
        "model = build_model()"
      ],
      "execution_count": null,
      "outputs": []
    },
    {
      "cell_type": "code",
      "metadata": {
        "colab": {
          "base_uri": "https://localhost:8080/"
        },
        "id": "xNKqW9MfIb0D",
        "outputId": "7486e815-6d7d-413e-84d1-eadaf5830c65"
      },
      "source": [
        "model.summary()"
      ],
      "execution_count": null,
      "outputs": [
        {
          "output_type": "stream",
          "text": [
            "Model: \"sequential\"\n",
            "_________________________________________________________________\n",
            "Layer (type)                 Output Shape              Param #   \n",
            "=================================================================\n",
            "dense (Dense)                (None, 32)                96        \n",
            "_________________________________________________________________\n",
            "dense_1 (Dense)              (None, 16)                528       \n",
            "_________________________________________________________________\n",
            "dense_2 (Dense)              (None, 2)                 34        \n",
            "_________________________________________________________________\n",
            "dense_3 (Dense)              (None, 1)                 3         \n",
            "=================================================================\n",
            "Total params: 661\n",
            "Trainable params: 661\n",
            "Non-trainable params: 0\n",
            "_________________________________________________________________\n"
          ],
          "name": "stdout"
        }
      ]
    },
    {
      "cell_type": "markdown",
      "metadata": {
        "id": "nZiRW2HbDVY7"
      },
      "source": [
        "# 3. Train your model"
      ]
    },
    {
      "cell_type": "code",
      "metadata": {
        "colab": {
          "base_uri": "https://localhost:8080/"
        },
        "id": "FV7ESjdPDVY8",
        "outputId": "481b3f7f-67ad-4541-ee70-ade70c98ea0e"
      },
      "source": [
        "model.fit(dataset, label, epochs=500)"
      ],
      "execution_count": null,
      "outputs": [
        {
          "output_type": "stream",
          "text": [
            "Epoch 1/500\n"
          ],
          "name": "stdout"
        }
      ]
    },
    {
      "cell_type": "code",
      "metadata": {
        "id": "qE_WE7T7DVZF"
      },
      "source": [
        ""
      ],
      "execution_count": null,
      "outputs": []
    },
    {
      "cell_type": "markdown",
      "metadata": {
        "id": "qeYvWgu4DVZO"
      },
      "source": [
        "# 4. Observe your new representation of dataset transformed by network"
      ]
    },
    {
      "cell_type": "code",
      "metadata": {
        "id": "1hifC67MDVZU"
      },
      "source": [
        "# 마지막 hidden layer에서 나오는 class A에 대한 새로운 데이터값들을 뽑아냅니다.\n",
        "last_hidden_output_model = tf.keras.Model(inputs=model.layers[0].input, outputs=model.layers[-2].output)\n",
        "new_rep_A = last_hidden_output_model.predict(class_A)\n",
        "new_rep_A.shape"
      ],
      "execution_count": null,
      "outputs": []
    },
    {
      "cell_type": "code",
      "metadata": {
        "id": "KCU206R3Hk_f"
      },
      "source": [
        "# 마지막 hidden layer에서 나오는 class B에 대한 새로운 데이터값들을 뽑아냅니다.\n",
        "new_rep_B = last_hidden_output_model.predict(class_B)\n",
        "new_rep_B.shape"
      ],
      "execution_count": null,
      "outputs": []
    },
    {
      "cell_type": "code",
      "metadata": {
        "id": "yraCNpSvHy-6"
      },
      "source": [
        "# 각각의 데이터들의 분포를 그려봅니다.\n",
        "\n",
        "fig = plt.figure()\n",
        "ax1 = fig.add_subplot(111)\n",
        "\n",
        "ax1.set_title('new_representation')\n",
        "ax1.set_xlabel('x1')\n",
        "ax1.set_ylabel('x2')\n",
        "\n",
        "ax1.scatter(new_rep_A[:,0], new_rep_A[:,1], c='red')\n",
        "\n",
        "ax1.scatter(new_rep_B[:,0], new_rep_B[:,1], c='blue')\n",
        "plt.show()"
      ],
      "execution_count": null,
      "outputs": []
    },
    {
      "cell_type": "code",
      "metadata": {
        "id": "b2ObkEoNH1Hq"
      },
      "source": [
        ""
      ],
      "execution_count": null,
      "outputs": []
    },
    {
      "cell_type": "code",
      "metadata": {
        "id": "sAELfY3hIIUT"
      },
      "source": [
        ""
      ],
      "execution_count": null,
      "outputs": []
    },
    {
      "cell_type": "code",
      "metadata": {
        "id": "5sAQWj2BH4-3"
      },
      "source": [
        ""
      ],
      "execution_count": null,
      "outputs": []
    },
    {
      "cell_type": "code",
      "metadata": {
        "id": "ZoV1L9wiMqIK"
      },
      "source": [
        ""
      ],
      "execution_count": null,
      "outputs": []
    }
  ]
}